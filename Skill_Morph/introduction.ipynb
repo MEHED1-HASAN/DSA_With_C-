{
  "nbformat": 4,
  "nbformat_minor": 0,
  "metadata": {
    "colab": {
      "provenance": [],
      "toc_visible": true,
      "authorship_tag": "ABX9TyOlbJtsEANjExEMD7V1exge",
      "include_colab_link": true
    },
    "kernelspec": {
      "name": "python3",
      "display_name": "Python 3"
    },
    "language_info": {
      "name": "python"
    }
  },
  "cells": [
    {
      "cell_type": "markdown",
      "metadata": {
        "id": "view-in-github",
        "colab_type": "text"
      },
      "source": [
        "<a href=\"https://colab.research.google.com/github/MEHED1-HASAN/DSA_With_C-/blob/main/Skill_Morph/introduction.ipynb\" target=\"_parent\"><img src=\"https://colab.research.google.com/assets/colab-badge.svg\" alt=\"Open In Colab\"/></a>"
      ]
    },
    {
      "cell_type": "code",
      "source": [
        "print(\"This is my homework of Day-1\")"
      ],
      "metadata": {
        "colab": {
          "base_uri": "https://localhost:8080/"
        },
        "id": "RADSU_q_QzUA",
        "outputId": "c8c66dbb-57cf-4bba-f6b7-5827bb0880c7"
      },
      "execution_count": 1,
      "outputs": [
        {
          "output_type": "stream",
          "name": "stdout",
          "text": [
            "This is my homework of Day-1\n"
          ]
        }
      ]
    },
    {
      "cell_type": "code",
      "execution_count": 2,
      "metadata": {
        "colab": {
          "base_uri": "https://localhost:8080/"
        },
        "id": "iB-w5AbARHEp",
        "outputId": "e8a96d4f-acd7-4772-b574-7299fcc9696a"
      },
      "outputs": [
        {
          "output_type": "stream",
          "name": "stdout",
          "text": [
            "welcome\n"
          ]
        }
      ],
      "source": [
        "print('welcome')"
      ]
    },
    {
      "cell_type": "markdown",
      "source": [
        "# **Chapter-1**"
      ],
      "metadata": {
        "id": "aLHE7G7RSAGX"
      }
    },
    {
      "cell_type": "code",
      "source": [],
      "metadata": {
        "id": "-QRNlpyTSI8R"
      },
      "execution_count": 2,
      "outputs": []
    },
    {
      "cell_type": "markdown",
      "source": [
        "## **sub chapter**"
      ],
      "metadata": {
        "id": "pBSGMigoSP0x"
      }
    },
    {
      "cell_type": "code",
      "source": [],
      "metadata": {
        "id": "Piv7GOVkSYRc"
      },
      "execution_count": 2,
      "outputs": []
    }
  ]
}